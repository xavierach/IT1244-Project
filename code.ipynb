{
 "cells": [
  {
   "cell_type": "markdown",
   "metadata": {},
   "source": [
    "Preprocessing"
   ]
  },
  {
   "cell_type": "code",
   "execution_count": 66,
   "metadata": {},
   "outputs": [],
   "source": [
    "# Import libraries\n",
    "import pandas as pd\n",
    "import numpy as np\n",
    "import matplotlib.pyplot as plt\n",
    "from scipy import stats\n",
    "from sklearn.preprocessing import StandardScaler\n"
   ]
  },
  {
   "cell_type": "code",
   "execution_count": 48,
   "metadata": {},
   "outputs": [],
   "source": [
    "# Read files\n",
    "data_client = pd.read_csv('data_files/client.csv')\n",
    "data_invoice = pd.read_csv('data_files/invoice.csv')"
   ]
  },
  {
   "cell_type": "code",
   "execution_count": 55,
   "metadata": {},
   "outputs": [
    {
     "name": "stdout",
     "output_type": "stream",
     "text": [
      "   region        date  dis    id  catg  target\n",
      "0     101  31/12/1994   60     0    11       0\n",
      "1     107   29/5/2002   69     1    11       0\n",
      "2     301   13/3/1986   62    10    11       0\n",
      "3     105   11/7/1996   69   100    11       0\n",
      "4     303  14/10/2014   62  1000    11       0\n",
      "region    21652\n",
      "date      21652\n",
      "dis       21652\n",
      "id        21652\n",
      "catg      21652\n",
      "target    21652\n",
      "dtype: int64\n"
     ]
    }
   ],
   "source": [
    "# Looking at header and data\n",
    "print(data_client.head())\n",
    "\n",
    "print(data_client.count())\n"
   ]
  },
  {
   "cell_type": "code",
   "execution_count": 56,
   "metadata": {},
   "outputs": [
    {
     "name": "stdout",
     "output_type": "stream",
     "text": [
      "   id        date  tarif_type  counter_statue  reading_remarque  \\\n",
      "0   0   24/3/2014          11               0                 8   \n",
      "1   0   29/3/2013          11               0                 6   \n",
      "2   0   23/3/2015          11               0                 8   \n",
      "3   0   13/7/2015          11               0                 8   \n",
      "4   0  17/11/2016          11               0                 9   \n",
      "\n",
      "   consommation_level_4  months_number counter_type  counter_coefficient  \\\n",
      "0                     0              4         ELEC                    1   \n",
      "1                     0              4         ELEC                    1   \n",
      "2                     0              4         ELEC                    1   \n",
      "3                     0              4         ELEC                    1   \n",
      "4                     0             12         ELEC                    1   \n",
      "\n",
      "   consommation_level_1  consommation_level_2  consommation_level_3  \n",
      "0                    82                     0                     0  \n",
      "1                  1200                   184                     0  \n",
      "2                   123                     0                     0  \n",
      "3                   102                     0                     0  \n",
      "4                   572                     0                     0  \n",
      "id                      500611\n",
      "date                    500611\n",
      "tarif_type              500611\n",
      "counter_statue          500611\n",
      "reading_remarque        500611\n",
      "consommation_level_4    500611\n",
      "months_number           500611\n",
      "counter_type            500611\n",
      "counter_coefficient     500611\n",
      "consommation_level_1    500611\n",
      "consommation_level_2    500611\n",
      "consommation_level_3    500611\n",
      "dtype: int64\n"
     ]
    }
   ],
   "source": [
    "print(data_invoice.head())\n",
    "\n",
    "print(data_invoice.count())"
   ]
  },
  {
   "cell_type": "code",
   "execution_count": 20,
   "metadata": {},
   "outputs": [
    {
     "data": {
      "text/plain": [
       "region    False\n",
       "date      False\n",
       "dis       False\n",
       "id        False\n",
       "catg      False\n",
       "target    False\n",
       "dtype: bool"
      ]
     },
     "execution_count": 20,
     "metadata": {},
     "output_type": "execute_result"
    }
   ],
   "source": [
    "# Check for missing data in client\n",
    "data_client.isna().any()"
   ]
  },
  {
   "cell_type": "code",
   "execution_count": 15,
   "metadata": {},
   "outputs": [
    {
     "data": {
      "text/plain": [
       "id                      False\n",
       "date                    False\n",
       "tarif_type              False\n",
       "counter_statue          False\n",
       "reading_remarque        False\n",
       "consommation_level_4    False\n",
       "months_number           False\n",
       "counter_type            False\n",
       "counter_coefficient     False\n",
       "consommation_level_1    False\n",
       "consommation_level_2    False\n",
       "consommation_level_3    False\n",
       "dtype: bool"
      ]
     },
     "execution_count": 15,
     "metadata": {},
     "output_type": "execute_result"
    }
   ],
   "source": [
    "# Check for missing data in invoice\n",
    "data_invoice.isna().any()"
   ]
  },
  {
   "cell_type": "markdown",
   "metadata": {},
   "source": [
    "There are no missing values in the dataset"
   ]
  },
  {
   "cell_type": "code",
   "execution_count": 58,
   "metadata": {},
   "outputs": [],
   "source": [
    "# Drop duplicates\n",
    "data_client.drop_duplicates(inplace=True)\n",
    "data_invoice.drop_duplicates(inplace=True)\n"
   ]
  },
  {
   "cell_type": "code",
   "execution_count": 65,
   "metadata": {},
   "outputs": [
    {
     "name": "stdout",
     "output_type": "stream",
     "text": [
      "   region       date  dis    id  catg  target  year_joined  month_joined  \\\n",
      "0     101 1994-12-31   60     0    11       0         1994            12   \n",
      "1     107 2002-05-29   69     1    11       0         2002             5   \n",
      "2     301 1986-03-13   62    10    11       0         1986             3   \n",
      "3     105 1996-07-11   69   100    11       0         1996             7   \n",
      "4     303 2014-10-14   62  1000    11       0         2014            10   \n",
      "\n",
      "   tenure  \n",
      "0   10882  \n",
      "1    8176  \n",
      "2   14097  \n",
      "3   10324  \n",
      "4    3655  \n",
      "   id       date  tarif_type  counter_statue  reading_remarque  \\\n",
      "0   0 2014-03-24          11               0                 8   \n",
      "1   0 2013-03-29          11               0                 6   \n",
      "2   0 2015-03-23          11               0                 8   \n",
      "3   0 2015-07-13          11               0                 8   \n",
      "4   0 2016-11-17          11               0                 9   \n",
      "\n",
      "   consommation_level_4  months_number counter_type  counter_coefficient  \\\n",
      "0                     0              4         ELEC                    1   \n",
      "1                     0              4         ELEC                    1   \n",
      "2                     0              4         ELEC                    1   \n",
      "3                     0              4         ELEC                    1   \n",
      "4                     0             12         ELEC                    1   \n",
      "\n",
      "   consommation_level_1  consommation_level_2  consommation_level_3  year  \\\n",
      "0                    82                     0                     0  2014   \n",
      "1                  1200                   184                     0  2013   \n",
      "2                   123                     0                     0  2015   \n",
      "3                   102                     0                     0  2015   \n",
      "4                   572                     0                     0  2016   \n",
      "\n",
      "   month  days_since_last_invoice  \n",
      "0      3                      NaN  \n",
      "1      3                   -360.0  \n",
      "2      3                    724.0  \n",
      "3      7                    112.0  \n",
      "4     11                    493.0  \n"
     ]
    }
   ],
   "source": [
    "# Convert date column to datetime\n",
    "data_client['date'] = pd.to_datetime(data_client['date'])\n",
    "\n",
    "# Extract year, month, and tenure\n",
    "data_client['year_joined'] = data_client['date'].dt.year\n",
    "data_client['month_joined'] = data_client['date'].dt.month\n",
    "data_client['tenure'] = (pd.to_datetime('today') - data_client['date']).dt.days\n",
    "\n",
    "# Convert to datetime and extract features\n",
    "data_invoice['date'] = pd.to_datetime(data_invoice['date'])\n",
    "data_invoice['year'] = data_invoice['date'].dt.year\n",
    "data_invoice['month'] = data_invoice['date'].dt.month\n",
    "data_invoice['days_since_last_invoice'] = data_invoice['date'].diff().dt.days\n",
    "\n",
    "print(data_client.head())\n",
    "print(data_invoice.head())\n"
   ]
  },
  {
   "cell_type": "code",
   "execution_count": 68,
   "metadata": {},
   "outputs": [
    {
     "name": "stdout",
     "output_type": "stream",
     "text": [
      "   id       date  tarif_type  counter_statue  reading_remarque  \\\n",
      "0   0 2014-03-24          11               0                 8   \n",
      "1   0 2013-03-29          11               0                 6   \n",
      "2   0 2015-03-23          11               0                 8   \n",
      "3   0 2015-07-13          11               0                 8   \n",
      "4   0 2016-11-17          11               0                 9   \n",
      "\n",
      "   consommation_level_4  months_number counter_type  counter_coefficient  \\\n",
      "0             -0.052334              4         ELEC            -0.003262   \n",
      "1             -0.052334              4         ELEC            -0.003262   \n",
      "2             -0.052334              4         ELEC            -0.003262   \n",
      "3             -0.052334              4         ELEC            -0.003262   \n",
      "4             -0.052334             12         ELEC            -0.003262   \n",
      "\n",
      "   consommation_level_1  consommation_level_2  consommation_level_3  year  \\\n",
      "0             -0.609700             -0.086277             -0.131753  2014   \n",
      "1              1.277986              0.045446             -0.131753  2013   \n",
      "2             -0.540474             -0.086277             -0.131753  2015   \n",
      "3             -0.575931             -0.086277             -0.131753  2015   \n",
      "4              0.217640             -0.086277             -0.131753  2016   \n",
      "\n",
      "   month  days_since_last_invoice  \n",
      "0      3                      NaN  \n",
      "1      3                   -360.0  \n",
      "2      3                    724.0  \n",
      "3      7                    112.0  \n",
      "4     11                    493.0  \n"
     ]
    }
   ],
   "source": [
    "# Standardising numeric variables\n",
    "data_invoice[['counter_coefficient', 'consommation_level_1', 'consommation_level_2', 'consommation_level_3', 'consommation_level_4']] = StandardScaler().fit_transform(data_invoice[['counter_coefficient', 'consommation_level_1', 'consommation_level_2', 'consommation_level_3', 'consommation_level_4']])\n",
    "\n",
    "print(data_invoice.head())"
   ]
  },
  {
   "cell_type": "code",
   "execution_count": 69,
   "metadata": {},
   "outputs": [
    {
     "data": {
      "text/plain": [
       "<BarContainer object of 2 artists>"
      ]
     },
     "execution_count": 69,
     "metadata": {},
     "output_type": "execute_result"
    },
    {
     "data": {
      "image/png": "[encoded data removed]",
      "text/plain": [
       "<Figure size 640x480 with 1 Axes>"
      ]
     },
     "metadata": {},
     "output_type": "display_data"
    }
   ],
   "source": [
    "# Visualise dependent variable\n",
    "fraud_c = data_client[data_client['target'] == 1]\n",
    "not_fraud_c = data_client[data_client['target'] == 0]\n",
    "\n",
    "\n",
    "plt.bar(['Fraud', 'Not Fraud'], [len(fraud_c), len(not_fraud_c)])"
   ]
  },
  {
   "cell_type": "markdown",
   "metadata": {},
   "source": [
    "Significantly larger number of clients are not fraudulent compare to fraudulent clients, showcasing an imbalance dataset."
   ]
  }
 ],
 "metadata": {
  "kernelspec": {
   "display_name": ".venv",
   "language": "python",
   "name": "python3"
  },
  "language_info": {
   "codemirror_mode": {
    "name": "ipython",
    "version": 3
   },
   "file_extension": ".py",
   "mimetype": "text/x-python",
   "name": "python",
   "nbconvert_exporter": "python",
   "pygments_lexer": "ipython3",
   "version": "3.12.3"
  }
 },
 "nbformat": 4,
 "nbformat_minor": 2
}
